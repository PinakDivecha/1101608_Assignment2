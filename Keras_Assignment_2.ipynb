{
  "nbformat": 4,
  "nbformat_minor": 0,
  "metadata": {
    "colab": {
      "name": "Keras_Assignment_2 Not Sharable.ipynb",
      "provenance": [],
      "collapsed_sections": [],
      "include_colab_link": true
    },
    "kernelspec": {
      "name": "python3",
      "display_name": "Python 3"
    },
    "accelerator": "GPU"
  },
  "cells": [
    {
      "cell_type": "markdown",
      "metadata": {
        "id": "view-in-github",
        "colab_type": "text"
      },
      "source": [
        "<a href=\"https://colab.research.google.com/github/PinakDivecha/1101608_Assignment2/blob/master/Keras_Assignment_2.ipynb\" target=\"_parent\"><img src=\"https://colab.research.google.com/assets/colab-badge.svg\" alt=\"Open In Colab\"/></a>"
      ]
    },
    {
      "cell_type": "code",
      "metadata": {
        "id": "GhZ-SKnmSUR-",
        "colab_type": "code",
        "outputId": "ae968b57-234c-4209-8121-fa9aa8fe9501",
        "colab": {
          "base_uri": "https://localhost:8080/",
          "height": 180
        }
      },
      "source": [
        "# Importing the required Library\n",
        "import tensorflow.compat.v1 as tf\n",
        "import pandas as pd\n",
        "# Get the train/test split package from sklearn for preparing our dataset to # train and test the model with \n",
        "from sklearn.model_selection import train_test_split\n",
        "# Import the numpy library to work with and manipulate the data \n",
        "# Get the train/test split package from sklearn for preparing our dataset to\n",
        "# train and test the model with\n",
        "from sklearn.model_selection import train_test_split\n",
        "import numpy as np\n",
        "# Imported the Seaborn for displaying the graph\n",
        "import seaborn as sns\n",
        "import matplotlib.pyplot as plt\n",
        "sns.set(color_codes=True)\n",
        "\n",
        "import nltk \n",
        "import random \n",
        "from nltk.tokenize import word_tokenize\n",
        "nltk.download('punkt') \n",
        "nltk.download('stopwords') \n",
        "nltk.download('wordnet') "
      ],
      "execution_count": 1,
      "outputs": [
        {
          "output_type": "display_data",
          "data": {
            "text/html": [
              "<p style=\"color: red;\">\n",
              "The default version of TensorFlow in Colab will soon switch to TensorFlow 2.x.<br>\n",
              "We recommend you <a href=\"https://www.tensorflow.org/guide/migrate\" target=\"_blank\">upgrade</a> now \n",
              "or ensure your notebook will continue to use TensorFlow 1.x via the <code>%tensorflow_version 1.x</code> magic:\n",
              "<a href=\"https://colab.research.google.com/notebooks/tensorflow_version.ipynb\" target=\"_blank\">more info</a>.</p>\n"
            ],
            "text/plain": [
              "<IPython.core.display.HTML object>"
            ]
          },
          "metadata": {
            "tags": []
          }
        },
        {
          "output_type": "stream",
          "text": [
            "[nltk_data] Downloading package punkt to /root/nltk_data...\n",
            "[nltk_data]   Unzipping tokenizers/punkt.zip.\n",
            "[nltk_data] Downloading package stopwords to /root/nltk_data...\n",
            "[nltk_data]   Unzipping corpora/stopwords.zip.\n",
            "[nltk_data] Downloading package wordnet to /root/nltk_data...\n",
            "[nltk_data]   Unzipping corpora/wordnet.zip.\n"
          ],
          "name": "stdout"
        },
        {
          "output_type": "execute_result",
          "data": {
            "text/plain": [
              "True"
            ]
          },
          "metadata": {
            "tags": []
          },
          "execution_count": 1
        }
      ]
    },
    {
      "cell_type": "code",
      "metadata": {
        "id": "kUk71zO6vL4_",
        "colab_type": "code",
        "outputId": "abf40193-3b48-4250-ae52-861dbc71c277",
        "colab": {
          "base_uri": "https://localhost:8080/",
          "height": 121
        }
      },
      "source": [
        "from google.colab import drive\n",
        "drive.mount('/content/drive')"
      ],
      "execution_count": 2,
      "outputs": [
        {
          "output_type": "stream",
          "text": [
            "Go to this URL in a browser: https://accounts.google.com/o/oauth2/auth?client_id=947318989803-6bn6qk8qdgf4n4g3pfee6491hc0brc4i.apps.googleusercontent.com&redirect_uri=urn%3aietf%3awg%3aoauth%3a2.0%3aoob&response_type=code&scope=email%20https%3a%2f%2fwww.googleapis.com%2fauth%2fdocs.test%20https%3a%2f%2fwww.googleapis.com%2fauth%2fdrive%20https%3a%2f%2fwww.googleapis.com%2fauth%2fdrive.photos.readonly%20https%3a%2f%2fwww.googleapis.com%2fauth%2fpeopleapi.readonly\n",
            "\n",
            "Enter your authorization code:\n",
            "··········\n",
            "Mounted at /content/drive\n"
          ],
          "name": "stdout"
        }
      ]
    },
    {
      "cell_type": "code",
      "metadata": {
        "id": "hzgCW0E6SZQe",
        "colab_type": "code",
        "outputId": "581758d0-6385-489e-b530-730f1d57fc23",
        "colab": {
          "base_uri": "https://localhost:8080/",
          "height": 195
        }
      },
      "source": [
        "# Imported the necessary libraries\n",
        "import csv\n",
        "import urllib.request as urllib2\n",
        "import matplotlib.pyplot as plt\n",
        "\n",
        "import pandas as pd\n",
        "# Importing data using url\n",
        "url = 'https://raw.githubusercontent.com/cacoderquan/Sentiment-Analysis-on-the-Rotten-Tomatoes-movie-review-dataset/master/train.tsv'\n",
        "response = urllib2.urlopen(url)\n",
        "\n",
        "# reading data using pandas and converting into dataframe\n",
        "df = pd.read_csv(response,delimiter='\\t',encoding='utf-8')\n",
        "df.head()"
      ],
      "execution_count": 3,
      "outputs": [
        {
          "output_type": "execute_result",
          "data": {
            "text/html": [
              "<div>\n",
              "<style scoped>\n",
              "    .dataframe tbody tr th:only-of-type {\n",
              "        vertical-align: middle;\n",
              "    }\n",
              "\n",
              "    .dataframe tbody tr th {\n",
              "        vertical-align: top;\n",
              "    }\n",
              "\n",
              "    .dataframe thead th {\n",
              "        text-align: right;\n",
              "    }\n",
              "</style>\n",
              "<table border=\"1\" class=\"dataframe\">\n",
              "  <thead>\n",
              "    <tr style=\"text-align: right;\">\n",
              "      <th></th>\n",
              "      <th>PhraseId</th>\n",
              "      <th>SentenceId</th>\n",
              "      <th>Phrase</th>\n",
              "      <th>Sentiment</th>\n",
              "    </tr>\n",
              "  </thead>\n",
              "  <tbody>\n",
              "    <tr>\n",
              "      <th>0</th>\n",
              "      <td>1</td>\n",
              "      <td>1</td>\n",
              "      <td>A series of escapades demonstrating the adage ...</td>\n",
              "      <td>1</td>\n",
              "    </tr>\n",
              "    <tr>\n",
              "      <th>1</th>\n",
              "      <td>2</td>\n",
              "      <td>1</td>\n",
              "      <td>A series of escapades demonstrating the adage ...</td>\n",
              "      <td>2</td>\n",
              "    </tr>\n",
              "    <tr>\n",
              "      <th>2</th>\n",
              "      <td>3</td>\n",
              "      <td>1</td>\n",
              "      <td>A series</td>\n",
              "      <td>2</td>\n",
              "    </tr>\n",
              "    <tr>\n",
              "      <th>3</th>\n",
              "      <td>4</td>\n",
              "      <td>1</td>\n",
              "      <td>A</td>\n",
              "      <td>2</td>\n",
              "    </tr>\n",
              "    <tr>\n",
              "      <th>4</th>\n",
              "      <td>5</td>\n",
              "      <td>1</td>\n",
              "      <td>series</td>\n",
              "      <td>2</td>\n",
              "    </tr>\n",
              "  </tbody>\n",
              "</table>\n",
              "</div>"
            ],
            "text/plain": [
              "   PhraseId  ...  Sentiment\n",
              "0         1  ...          1\n",
              "1         2  ...          2\n",
              "2         3  ...          2\n",
              "3         4  ...          2\n",
              "4         5  ...          2\n",
              "\n",
              "[5 rows x 4 columns]"
            ]
          },
          "metadata": {
            "tags": []
          },
          "execution_count": 3
        }
      ]
    },
    {
      "cell_type": "code",
      "metadata": {
        "id": "uDU5qDu_Sbj2",
        "colab_type": "code",
        "outputId": "66bae582-348e-4616-a32b-62714f67edc5",
        "colab": {
          "base_uri": "https://localhost:8080/",
          "height": 212
        }
      },
      "source": [
        "df = df.sample(frac=1).reset_index(drop=True)\n",
        "print(len(df))\n",
        "df.head()"
      ],
      "execution_count": 4,
      "outputs": [
        {
          "output_type": "stream",
          "text": [
            "156060\n"
          ],
          "name": "stdout"
        },
        {
          "output_type": "execute_result",
          "data": {
            "text/html": [
              "<div>\n",
              "<style scoped>\n",
              "    .dataframe tbody tr th:only-of-type {\n",
              "        vertical-align: middle;\n",
              "    }\n",
              "\n",
              "    .dataframe tbody tr th {\n",
              "        vertical-align: top;\n",
              "    }\n",
              "\n",
              "    .dataframe thead th {\n",
              "        text-align: right;\n",
              "    }\n",
              "</style>\n",
              "<table border=\"1\" class=\"dataframe\">\n",
              "  <thead>\n",
              "    <tr style=\"text-align: right;\">\n",
              "      <th></th>\n",
              "      <th>PhraseId</th>\n",
              "      <th>SentenceId</th>\n",
              "      <th>Phrase</th>\n",
              "      <th>Sentiment</th>\n",
              "    </tr>\n",
              "  </thead>\n",
              "  <tbody>\n",
              "    <tr>\n",
              "      <th>0</th>\n",
              "      <td>2098</td>\n",
              "      <td>80</td>\n",
              "      <td>its predecessors proud</td>\n",
              "      <td>3</td>\n",
              "    </tr>\n",
              "    <tr>\n",
              "      <th>1</th>\n",
              "      <td>43335</td>\n",
              "      <td>2094</td>\n",
              "      <td>and , through it all , human</td>\n",
              "      <td>3</td>\n",
              "    </tr>\n",
              "    <tr>\n",
              "      <th>2</th>\n",
              "      <td>24229</td>\n",
              "      <td>1101</td>\n",
              "      <td>featured in this film</td>\n",
              "      <td>2</td>\n",
              "    </tr>\n",
              "    <tr>\n",
              "      <th>3</th>\n",
              "      <td>104618</td>\n",
              "      <td>5524</td>\n",
              "      <td>Murdock</td>\n",
              "      <td>2</td>\n",
              "    </tr>\n",
              "    <tr>\n",
              "      <th>4</th>\n",
              "      <td>16342</td>\n",
              "      <td>704</td>\n",
              "      <td>While it is interesting to witness the conflic...</td>\n",
              "      <td>1</td>\n",
              "    </tr>\n",
              "  </tbody>\n",
              "</table>\n",
              "</div>"
            ],
            "text/plain": [
              "   PhraseId  ...  Sentiment\n",
              "0      2098  ...          3\n",
              "1     43335  ...          3\n",
              "2     24229  ...          2\n",
              "3    104618  ...          2\n",
              "4     16342  ...          1\n",
              "\n",
              "[5 rows x 4 columns]"
            ]
          },
          "metadata": {
            "tags": []
          },
          "execution_count": 4
        }
      ]
    },
    {
      "cell_type": "code",
      "metadata": {
        "id": "I09uWbN4SfNm",
        "colab_type": "code",
        "outputId": "2d909bb5-6c1a-4c2b-c99d-340762621e03",
        "colab": {
          "base_uri": "https://localhost:8080/",
          "height": 34
        }
      },
      "source": [
        "X_train, X_test, Y_train, Y_test = train_test_split(df ['Phrase'], df ['Sentiment'], test_size=0.3, random_state=2003)\n",
        "documents=[]\n",
        "X_train = np.array(X_train.values.tolist())\n",
        "Y_train = np.array(Y_train.values.tolist())\n",
        "for i in range(len(X_train)):\n",
        "  documents.append([list(word_tokenize(X_train[i])), Y_train[i]]) \n",
        "\n",
        "X_test = np.array(X_test.values.tolist())\n",
        "Y_test = np.array(Y_test.values.tolist())\n",
        "for i in range(len(X_test)):\n",
        "  documents.append([list(word_tokenize(X_test[i])), Y_test[i]]) \n",
        "\n",
        "documents[0]"
      ],
      "execution_count": 5,
      "outputs": [
        {
          "output_type": "execute_result",
          "data": {
            "text/plain": [
              "[['concrete', 'story', 'and'], 2]"
            ]
          },
          "metadata": {
            "tags": []
          },
          "execution_count": 5
        }
      ]
    },
    {
      "cell_type": "code",
      "metadata": {
        "id": "H6ccNGN3WvQY",
        "colab_type": "code",
        "colab": {}
      },
      "source": [
        "from nltk.corpus import stopwords \n",
        "from nltk.stem import WordNetLemmatizer, PorterStemmer, LancasterStemmer \n",
        "porter = PorterStemmer() \n",
        "lancaster=LancasterStemmer() \n",
        "wordnet_lemmatizer = WordNetLemmatizer() \n",
        "stopwords_en = stopwords.words(\"english\") \n",
        "punctuations=\"?:!.,;'\\\"-()\"\n",
        "remove_stopwords = True\n",
        "useStemming = False\n",
        "useLemma = False\n",
        "removePuncs = True\n"
      ],
      "execution_count": 0,
      "outputs": []
    },
    {
      "cell_type": "code",
      "metadata": {
        "id": "wibkp1lHWxuf",
        "colab_type": "code",
        "outputId": "943ec808-4a72-4f86-da86-ae6e67c67700",
        "colab": {
          "base_uri": "https://localhost:8080/",
          "height": 34
        }
      },
      "source": [
        "for l in range(len(documents)):                   #For each review document \n",
        "  label = documents[l][1]                         #Save review label \n",
        "  tmpReview = []                                  #Placeholder list for new review \n",
        "  for w in documents[l][0]:                       #For each word this is review \n",
        "    newWord = w                                   #Set newWork to be the updated word \n",
        "    if remove_stopwords and (w in stopwords_en):  #if the word is a stopword & we want to remove stopwords \n",
        "      continue                                    #skip the word and don’t had it to the normalized review \n",
        "    if removePuncs and (w in punctuations):       #if the word is a punc. & we want to remove punctuations \n",
        "      continue                                    #skip the word and don’t had it to the normalized review \n",
        "    if useStemming:\n",
        "      newWord = lancaster.stem(newWord) #Use Lancaster stemmer \n",
        "    if useLemma: \n",
        "      newWord = wordnet_lemmatizer.lemmatize(newWord) \n",
        "    tmpReview.append(newWord)                     #Add normalized word to the tmp review \n",
        "  documents[l] = (tmpReview, label)             #Update the reviews list with clean review \n",
        "  documents[l] = (' '.join(tmpReview), label) \n",
        "\n",
        "print(documents[0])"
      ],
      "execution_count": 7,
      "outputs": [
        {
          "output_type": "stream",
          "text": [
            "('concrete story', 2)\n"
          ],
          "name": "stdout"
        }
      ]
    },
    {
      "cell_type": "code",
      "metadata": {
        "id": "InPVUfgzWztX",
        "colab_type": "code",
        "outputId": "eae5db37-b39a-4521-bfd4-06dc05122e20",
        "colab": {
          "base_uri": "https://localhost:8080/",
          "height": 195
        }
      },
      "source": [
        "df = pd.DataFrame(documents, columns=['text', 'sentiment']) \n",
        "df.head()"
      ],
      "execution_count": 8,
      "outputs": [
        {
          "output_type": "execute_result",
          "data": {
            "text/html": [
              "<div>\n",
              "<style scoped>\n",
              "    .dataframe tbody tr th:only-of-type {\n",
              "        vertical-align: middle;\n",
              "    }\n",
              "\n",
              "    .dataframe tbody tr th {\n",
              "        vertical-align: top;\n",
              "    }\n",
              "\n",
              "    .dataframe thead th {\n",
              "        text-align: right;\n",
              "    }\n",
              "</style>\n",
              "<table border=\"1\" class=\"dataframe\">\n",
              "  <thead>\n",
              "    <tr style=\"text-align: right;\">\n",
              "      <th></th>\n",
              "      <th>text</th>\n",
              "      <th>sentiment</th>\n",
              "    </tr>\n",
              "  </thead>\n",
              "  <tbody>\n",
              "    <tr>\n",
              "      <th>0</th>\n",
              "      <td>concrete story</td>\n",
              "      <td>2</td>\n",
              "    </tr>\n",
              "    <tr>\n",
              "      <th>1</th>\n",
              "      <td>retread story bad writing</td>\n",
              "      <td>2</td>\n",
              "    </tr>\n",
              "    <tr>\n",
              "      <th>2</th>\n",
              "      <td>'s ` laughing variety ` laughing</td>\n",
              "      <td>1</td>\n",
              "    </tr>\n",
              "    <tr>\n",
              "      <th>3</th>\n",
              "      <td>Even hastily amateurishly drawn animation engage</td>\n",
              "      <td>0</td>\n",
              "    </tr>\n",
              "    <tr>\n",
              "      <th>4</th>\n",
              "      <td>interesting likable</td>\n",
              "      <td>4</td>\n",
              "    </tr>\n",
              "  </tbody>\n",
              "</table>\n",
              "</div>"
            ],
            "text/plain": [
              "                                               text  sentiment\n",
              "0                                    concrete story          2\n",
              "1                         retread story bad writing          2\n",
              "2                  's ` laughing variety ` laughing          1\n",
              "3  Even hastily amateurishly drawn animation engage          0\n",
              "4                               interesting likable          4"
            ]
          },
          "metadata": {
            "tags": []
          },
          "execution_count": 8
        }
      ]
    },
    {
      "cell_type": "code",
      "metadata": {
        "id": "N1uxCH1yDwsN",
        "colab_type": "code",
        "outputId": "fd309ec9-bb07-4a0c-eb5a-1191cfd9ca67",
        "colab": {
          "base_uri": "https://localhost:8080/",
          "height": 502
        }
      },
      "source": [
        "dist = df.groupby([\"sentiment\"]).size()\n",
        "dist = dist / dist.sum()\n",
        "fig, ax = plt.subplots(figsize=(12,8))\n",
        "sns.barplot(dist.keys(), dist.values);"
      ],
      "execution_count": 9,
      "outputs": [
        {
          "output_type": "display_data",
          "data": {
            "image/png": "[encoded data removed]",
            "text/plain": [
              "<Figure size 864x576 with 1 Axes>"
            ]
          },
          "metadata": {
            "tags": []
          }
        }
      ]
    },
    {
      "cell_type": "code",
      "metadata": {
        "id": "fsMe0ctfD04f",
        "colab_type": "code",
        "outputId": "28e791e6-7abe-44d8-bf35-8a0a4178e3ed",
        "colab": {
          "base_uri": "https://localhost:8080/",
          "height": 134
        }
      },
      "source": [
        "dist"
      ],
      "execution_count": 10,
      "outputs": [
        {
          "output_type": "execute_result",
          "data": {
            "text/plain": [
              "sentiment\n",
              "0    0.045316\n",
              "1    0.174760\n",
              "2    0.509945\n",
              "3    0.210989\n",
              "4    0.058990\n",
              "dtype: float64"
            ]
          },
          "metadata": {
            "tags": []
          },
          "execution_count": 10
        }
      ]
    },
    {
      "cell_type": "code",
      "metadata": {
        "id": "OSoEouQN83iF",
        "colab_type": "code",
        "colab": {}
      },
      "source": [
        "X_train, X_test, Y_train, Y_test = train_test_split(df['text'],  df['sentiment'], test_size=0.3, random_state=2003)"
      ],
      "execution_count": 0,
      "outputs": []
    },
    {
      "cell_type": "code",
      "metadata": {
        "id": "7gaF2YPvUH7W",
        "colab_type": "code",
        "colab": {
          "base_uri": "https://localhost:8080/",
          "height": 34
        },
        "outputId": "e238b052-d724-4e19-e02d-66c6fd13dba3"
      },
      "source": [
        "from sklearn.feature_extraction.text import CountVectorizer , TfidfVectorizer\n",
        "from keras.utils import to_categorical\n",
        "\n",
        "vectorizer = TfidfVectorizer(max_features = 2500)#, # ngram_range=(1, 1)) \n",
        "X = vectorizer.fit_transform(df[\"text\"]) \n",
        "Y = df['sentiment'] \n"
      ],
      "execution_count": 12,
      "outputs": [
        {
          "output_type": "stream",
          "text": [
            "Using TensorFlow backend.\n"
          ],
          "name": "stderr"
        }
      ]
    },
    {
      "cell_type": "code",
      "metadata": {
        "id": "rQDrycWiDQH8",
        "colab_type": "code",
        "colab": {}
      },
      "source": [
        "# from imblearn.over_sampling import SMOTE \n",
        "# sm = SMOTE(random_state=42)\n",
        "# X_res, y_res = sm.fit_resample(X, Y)"
      ],
      "execution_count": 0,
      "outputs": []
    },
    {
      "cell_type": "code",
      "metadata": {
        "id": "XFW4tRh8Dj2e",
        "colab_type": "code",
        "colab": {}
      },
      "source": [
        "# (unique, counts) = np.unique(y_res, return_counts=True)\n",
        "# print(unique, counts)"
      ],
      "execution_count": 0,
      "outputs": []
    },
    {
      "cell_type": "code",
      "metadata": {
        "id": "1eke0GZmFc-R",
        "colab_type": "code",
        "colab": {}
      },
      "source": [
        "# X_train, X_test, Y_train, Y_test = train_test_split(X_res,  y_res, test_size=0.3, random_state=2003)"
      ],
      "execution_count": 0,
      "outputs": []
    },
    {
      "cell_type": "code",
      "metadata": {
        "id": "lVhDtgWeDNs7",
        "colab_type": "code",
        "colab": {}
      },
      "source": [
        "# .shape\n",
        "X_train = vectorizer.transform(X_train).toarray()\n",
        "Y_train = Y_train \n",
        "X_test = vectorizer.transform(X_test).toarray()\n",
        "Y_test = Y_test\n",
        "#\n",
        "# X_train = X_train.toarray()\n",
        "# Y_train = Y_train \n",
        "# X_test = X_test.toarray()\n",
        "# Y_test = Y_test"
      ],
      "execution_count": 0,
      "outputs": []
    },
    {
      "cell_type": "code",
      "metadata": {
        "id": "ezvrFic8Uqyy",
        "colab_type": "code",
        "colab": {}
      },
      "source": [
        "import keras\n",
        "from keras.datasets import mnist\n",
        "from keras.models import Sequential\n",
        "from keras.layers import Dense, Dropout, Flatten\n",
        "from keras.layers import Conv1D, MaxPooling1D\n",
        "from keras import backend as K"
      ],
      "execution_count": 0,
      "outputs": []
    },
    {
      "cell_type": "code",
      "metadata": {
        "id": "bBTXNasO6vMo",
        "colab_type": "code",
        "colab": {}
      },
      "source": [
        "\n",
        "\n",
        "def recall_m(y_true, y_pred):\n",
        "    true_positives = K.sum(K.round(K.clip(y_true * y_pred, 0, 1)))\n",
        "    possible_positives = K.sum(K.round(K.clip(y_true, 0, 1)))\n",
        "    recall = true_positives / (possible_positives + K.epsilon())\n",
        "    return recall\n",
        "\n",
        "def precision_m(y_true, y_pred):\n",
        "    true_positives = K.sum(K.round(K.clip(y_true * y_pred, 0, 1)))\n",
        "    predicted_positives = K.sum(K.round(K.clip(y_pred, 0, 1)))\n",
        "    precision = true_positives / (predicted_positives + K.epsilon())\n",
        "    return precision\n",
        "\n",
        "def f1_m(y_true, y_pred):\n",
        "    precision = precision_m(y_true, y_pred)\n",
        "    recall = recall_m(y_true, y_pred)\n",
        "    return 2*((precision*recall)/(precision+recall+K.epsilon()))\n"
      ],
      "execution_count": 0,
      "outputs": []
    },
    {
      "cell_type": "code",
      "metadata": {
        "id": "DfzeNFfVU4rk",
        "colab_type": "code",
        "colab": {}
      },
      "source": [
        "batch_size = 64\n",
        "num_classes = 5\n",
        "epochs = 15"
      ],
      "execution_count": 0,
      "outputs": []
    },
    {
      "cell_type": "code",
      "metadata": {
        "id": "vBxQFt--fHT1",
        "colab_type": "code",
        "colab": {}
      },
      "source": [
        "Y_train = keras.utils.to_categorical(Y_train, num_classes)\n",
        "Y_test = keras.utils.to_categorical(Y_test, num_classes)"
      ],
      "execution_count": 0,
      "outputs": []
    },
    {
      "cell_type": "code",
      "metadata": {
        "id": "B5ToySXMU87V",
        "colab_type": "code",
        "colab": {
          "base_uri": "https://localhost:8080/",
          "height": 171
        },
        "outputId": "54ab5825-6b65-4565-c899-7a15502e6b6d"
      },
      "source": [
        "\n",
        "model = Sequential()\n",
        "model.add(Conv1D(filters=64, kernel_size=5,\n",
        "                 activation='relu',\n",
        "                 input_shape=(2500,1)))\n",
        "model.add(Conv1D(64, kernel_size=5, activation='relu'))\n",
        "model.add(MaxPooling1D(pool_size=1))\n",
        "# model.add(Dropout(rate = 0.5))\n",
        "model.add(Flatten())\n",
        "# model.add(Dense(64, activation='relu'))\n",
        "# model.add(Dropout(0.5))\n",
        "model.add(Dense(num_classes, activation='softmax'))\n"
      ],
      "execution_count": 21,
      "outputs": [
        {
          "output_type": "stream",
          "text": [
            "WARNING:tensorflow:From /usr/local/lib/python3.6/dist-packages/keras/backend/tensorflow_backend.py:66: The name tf.get_default_graph is deprecated. Please use tf.compat.v1.get_default_graph instead.\n",
            "\n",
            "WARNING:tensorflow:From /usr/local/lib/python3.6/dist-packages/keras/backend/tensorflow_backend.py:541: The name tf.placeholder is deprecated. Please use tf.compat.v1.placeholder instead.\n",
            "\n",
            "WARNING:tensorflow:From /usr/local/lib/python3.6/dist-packages/keras/backend/tensorflow_backend.py:4432: The name tf.random_uniform is deprecated. Please use tf.random.uniform instead.\n",
            "\n",
            "WARNING:tensorflow:From /usr/local/lib/python3.6/dist-packages/keras/backend/tensorflow_backend.py:4267: The name tf.nn.max_pool is deprecated. Please use tf.nn.max_pool2d instead.\n",
            "\n"
          ],
          "name": "stdout"
        }
      ]
    },
    {
      "cell_type": "code",
      "metadata": {
        "id": "HA3I6AgtgMaN",
        "colab_type": "code",
        "colab": {
          "base_uri": "https://localhost:8080/",
          "height": 104
        },
        "outputId": "f5428370-69ca-4456-fe71-bd052ce17972"
      },
      "source": [
        "model.compile(loss=keras.losses.categorical_crossentropy,\n",
        "              optimizer=keras.optimizers.Adadelta(),\n",
        "              # optimizer=keras.optimizers.(),\n",
        "              metrics=['accuracy',f1_m,precision_m, recall_m])"
      ],
      "execution_count": 22,
      "outputs": [
        {
          "output_type": "stream",
          "text": [
            "WARNING:tensorflow:From /usr/local/lib/python3.6/dist-packages/keras/optimizers.py:793: The name tf.train.Optimizer is deprecated. Please use tf.compat.v1.train.Optimizer instead.\n",
            "\n",
            "WARNING:tensorflow:From /usr/local/lib/python3.6/dist-packages/keras/backend/tensorflow_backend.py:3576: The name tf.log is deprecated. Please use tf.math.log instead.\n",
            "\n"
          ],
          "name": "stdout"
        }
      ]
    },
    {
      "cell_type": "code",
      "metadata": {
        "id": "qzZj7j5HH9f_",
        "colab_type": "code",
        "outputId": "17f267e5-23a6-45d3-fa95-7f5b9bb09cf8",
        "colab": {
          "base_uri": "https://localhost:8080/",
          "height": 34
        }
      },
      "source": [
        "X_train.shape[1]"
      ],
      "execution_count": 23,
      "outputs": [
        {
          "output_type": "execute_result",
          "data": {
            "text/plain": [
              "2500"
            ]
          },
          "metadata": {
            "tags": []
          },
          "execution_count": 23
        }
      ]
    },
    {
      "cell_type": "code",
      "metadata": {
        "id": "-rXqFVIQiS-j",
        "colab_type": "code",
        "outputId": "85230107-c933-4e6e-bc03-d1383d228a67",
        "colab": {
          "base_uri": "https://localhost:8080/",
          "height": 34
        }
      },
      "source": [
        "X_train = X_train.reshape(X_train.shape[0], X_train.shape[1], 1)\n",
        "X_test = X_test.reshape(X_test.shape[0], X_test.shape[1], 1)\n",
        "X_train.shape"
      ],
      "execution_count": 24,
      "outputs": [
        {
          "output_type": "execute_result",
          "data": {
            "text/plain": [
              "(109242, 2500, 1)"
            ]
          },
          "metadata": {
            "tags": []
          },
          "execution_count": 24
        }
      ]
    },
    {
      "cell_type": "code",
      "metadata": {
        "id": "2sDSZ7J2ViP8",
        "colab_type": "code",
        "outputId": "4d137e0e-9d54-4d22-f2ab-298fe783c905",
        "colab": {
          "base_uri": "https://localhost:8080/",
          "height": 1000
        }
      },
      "source": [
        "\n",
        "# _, accuracy = model.evaluate(X_test, Y_test, batch_size=batch_size, verbose=0)\n",
        "import timeit\n",
        "\n",
        "start = timeit.default_timer()\n",
        "hh = model.fit(X_train, Y_train,\n",
        "          batch_size=64,\n",
        "          epochs=35)\n",
        "stop = timeit.default_timer()\n",
        "model.save('/content/drive/My Drive/1101608_1dconv_reg.h5')\n",
        "\n",
        "test_loss, test_accuracy, test_f1_score, test_precision, test_recall = model.evaluate(X_test, Y_test, verbose=0)\n"
      ],
      "execution_count": 25,
      "outputs": [
        {
          "output_type": "stream",
          "text": [
            "WARNING:tensorflow:From /tensorflow-1.15.0/python3.6/tensorflow_core/python/ops/math_grad.py:1424: where (from tensorflow.python.ops.array_ops) is deprecated and will be removed in a future version.\n",
            "Instructions for updating:\n",
            "Use tf.where in 2.0, which has the same broadcast rule as np.where\n",
            "WARNING:tensorflow:From /usr/local/lib/python3.6/dist-packages/keras/backend/tensorflow_backend.py:1033: The name tf.assign_add is deprecated. Please use tf.compat.v1.assign_add instead.\n",
            "\n",
            "WARNING:tensorflow:From /usr/local/lib/python3.6/dist-packages/keras/backend/tensorflow_backend.py:1020: The name tf.assign is deprecated. Please use tf.compat.v1.assign instead.\n",
            "\n",
            "WARNING:tensorflow:From /usr/local/lib/python3.6/dist-packages/keras/backend/tensorflow_backend.py:3005: The name tf.Session is deprecated. Please use tf.compat.v1.Session instead.\n",
            "\n",
            "Epoch 1/35\n",
            "WARNING:tensorflow:From /usr/local/lib/python3.6/dist-packages/keras/backend/tensorflow_backend.py:190: The name tf.get_default_session is deprecated. Please use tf.compat.v1.get_default_session instead.\n",
            "\n",
            "WARNING:tensorflow:From /usr/local/lib/python3.6/dist-packages/keras/backend/tensorflow_backend.py:197: The name tf.ConfigProto is deprecated. Please use tf.compat.v1.ConfigProto instead.\n",
            "\n",
            "WARNING:tensorflow:From /usr/local/lib/python3.6/dist-packages/keras/backend/tensorflow_backend.py:207: The name tf.global_variables is deprecated. Please use tf.compat.v1.global_variables instead.\n",
            "\n",
            "WARNING:tensorflow:From /usr/local/lib/python3.6/dist-packages/keras/backend/tensorflow_backend.py:216: The name tf.is_variable_initialized is deprecated. Please use tf.compat.v1.is_variable_initialized instead.\n",
            "\n",
            "WARNING:tensorflow:From /usr/local/lib/python3.6/dist-packages/keras/backend/tensorflow_backend.py:223: The name tf.variables_initializer is deprecated. Please use tf.compat.v1.variables_initializer instead.\n",
            "\n",
            "109242/109242 [==============================] - 60s 553us/step - loss: 1.1221 - acc: 0.5614 - f1_m: 0.4849 - precision_m: 0.6067 - recall_m: 0.4109\n",
            "Epoch 2/35\n",
            "109242/109242 [==============================] - 48s 435us/step - loss: 1.0247 - acc: 0.5990 - f1_m: 0.5571 - precision_m: 0.6604 - recall_m: 0.4834\n",
            "Epoch 3/35\n",
            "109242/109242 [==============================] - 48s 435us/step - loss: 0.9995 - acc: 0.6100 - f1_m: 0.5742 - precision_m: 0.6686 - recall_m: 0.5047\n",
            "Epoch 4/35\n",
            "109242/109242 [==============================] - 47s 433us/step - loss: 0.9844 - acc: 0.6165 - f1_m: 0.5858 - precision_m: 0.6733 - recall_m: 0.5198\n",
            "Epoch 5/35\n",
            "109242/109242 [==============================] - 48s 437us/step - loss: 0.9744 - acc: 0.6213 - f1_m: 0.5919 - precision_m: 0.6753 - recall_m: 0.5281\n",
            "Epoch 6/35\n",
            "109242/109242 [==============================] - 47s 434us/step - loss: 0.9652 - acc: 0.6268 - f1_m: 0.5986 - precision_m: 0.6787 - recall_m: 0.5367\n",
            "Epoch 7/35\n",
            "109242/109242 [==============================] - 48s 436us/step - loss: 0.9584 - acc: 0.6309 - f1_m: 0.6027 - precision_m: 0.6807 - recall_m: 0.5419\n",
            "Epoch 8/35\n",
            "109242/109242 [==============================] - 48s 436us/step - loss: 0.9502 - acc: 0.6338 - f1_m: 0.6073 - precision_m: 0.6816 - recall_m: 0.5487\n",
            "Epoch 9/35\n",
            "109242/109242 [==============================] - 48s 438us/step - loss: 0.9455 - acc: 0.6357 - f1_m: 0.6104 - precision_m: 0.6827 - recall_m: 0.5531\n",
            "Epoch 10/35\n",
            "109242/109242 [==============================] - 48s 436us/step - loss: 0.9415 - acc: 0.6376 - f1_m: 0.6128 - precision_m: 0.6841 - recall_m: 0.5560\n",
            "Epoch 11/35\n",
            "109242/109242 [==============================] - 48s 438us/step - loss: 0.9378 - acc: 0.6381 - f1_m: 0.6147 - precision_m: 0.6846 - recall_m: 0.5588\n",
            "Epoch 12/35\n",
            "109242/109242 [==============================] - 48s 436us/step - loss: 0.9341 - acc: 0.6412 - f1_m: 0.6176 - precision_m: 0.6860 - recall_m: 0.5628\n",
            "Epoch 13/35\n",
            "109242/109242 [==============================] - 47s 435us/step - loss: 0.9308 - acc: 0.6431 - f1_m: 0.6201 - precision_m: 0.6870 - recall_m: 0.5660\n",
            "Epoch 14/35\n",
            "109242/109242 [==============================] - 48s 436us/step - loss: 0.9277 - acc: 0.6435 - f1_m: 0.6227 - precision_m: 0.6890 - recall_m: 0.5690\n",
            "Epoch 15/35\n",
            "109242/109242 [==============================] - 48s 437us/step - loss: 0.9240 - acc: 0.6460 - f1_m: 0.6246 - precision_m: 0.6893 - recall_m: 0.5720\n",
            "Epoch 16/35\n",
            "109242/109242 [==============================] - 48s 435us/step - loss: 0.9210 - acc: 0.6479 - f1_m: 0.6269 - precision_m: 0.6912 - recall_m: 0.5746\n",
            "Epoch 17/35\n",
            "109242/109242 [==============================] - 48s 437us/step - loss: 0.9181 - acc: 0.6478 - f1_m: 0.6284 - precision_m: 0.6922 - recall_m: 0.5762\n",
            "Epoch 18/35\n",
            "109242/109242 [==============================] - 48s 437us/step - loss: 0.9145 - acc: 0.6502 - f1_m: 0.6304 - precision_m: 0.6934 - recall_m: 0.5788\n",
            "Epoch 19/35\n",
            "109242/109242 [==============================] - 48s 436us/step - loss: 0.9116 - acc: 0.6520 - f1_m: 0.6323 - precision_m: 0.6946 - recall_m: 0.5812\n",
            "Epoch 20/35\n",
            "109242/109242 [==============================] - 48s 437us/step - loss: 0.9090 - acc: 0.6531 - f1_m: 0.6324 - precision_m: 0.6948 - recall_m: 0.5812\n",
            "Epoch 21/35\n",
            "109242/109242 [==============================] - 48s 436us/step - loss: 0.9062 - acc: 0.6544 - f1_m: 0.6353 - precision_m: 0.6961 - recall_m: 0.5852\n",
            "Epoch 22/35\n",
            "109242/109242 [==============================] - 48s 437us/step - loss: 0.9035 - acc: 0.6553 - f1_m: 0.6355 - precision_m: 0.6967 - recall_m: 0.5850\n",
            "Epoch 23/35\n",
            "109242/109242 [==============================] - 47s 434us/step - loss: 0.9019 - acc: 0.6561 - f1_m: 0.6377 - precision_m: 0.6984 - recall_m: 0.5876\n",
            "Epoch 24/35\n",
            "109242/109242 [==============================] - 48s 435us/step - loss: 0.8991 - acc: 0.6568 - f1_m: 0.6386 - precision_m: 0.6992 - recall_m: 0.5885\n",
            "Epoch 25/35\n",
            "109242/109242 [==============================] - 47s 433us/step - loss: 0.8971 - acc: 0.6583 - f1_m: 0.6394 - precision_m: 0.6995 - recall_m: 0.5897\n",
            "Epoch 26/35\n",
            "109242/109242 [==============================] - 47s 433us/step - loss: 0.8957 - acc: 0.6589 - f1_m: 0.6396 - precision_m: 0.6994 - recall_m: 0.5902\n",
            "Epoch 27/35\n",
            "109242/109242 [==============================] - 47s 431us/step - loss: 0.8932 - acc: 0.6597 - f1_m: 0.6413 - precision_m: 0.7005 - recall_m: 0.5922\n",
            "Epoch 28/35\n",
            "109242/109242 [==============================] - 47s 431us/step - loss: 0.8922 - acc: 0.6603 - f1_m: 0.6420 - precision_m: 0.7003 - recall_m: 0.5935\n",
            "Epoch 29/35\n",
            "109242/109242 [==============================] - 47s 431us/step - loss: 0.8898 - acc: 0.6607 - f1_m: 0.6430 - precision_m: 0.7014 - recall_m: 0.5945\n",
            "Epoch 30/35\n",
            "109242/109242 [==============================] - 47s 431us/step - loss: 0.8891 - acc: 0.6625 - f1_m: 0.6445 - precision_m: 0.7023 - recall_m: 0.5964\n",
            "Epoch 31/35\n",
            "109242/109242 [==============================] - 47s 433us/step - loss: 0.8871 - acc: 0.6631 - f1_m: 0.6450 - precision_m: 0.7021 - recall_m: 0.5974\n",
            "Epoch 32/35\n",
            "109242/109242 [==============================] - 48s 435us/step - loss: 0.8866 - acc: 0.6631 - f1_m: 0.6460 - precision_m: 0.7021 - recall_m: 0.5990\n",
            "Epoch 33/35\n",
            "109242/109242 [==============================] - 47s 433us/step - loss: 0.8851 - acc: 0.6641 - f1_m: 0.6475 - precision_m: 0.7038 - recall_m: 0.6004\n",
            "Epoch 34/35\n",
            "109242/109242 [==============================] - 47s 431us/step - loss: 0.8836 - acc: 0.6653 - f1_m: 0.6475 - precision_m: 0.7034 - recall_m: 0.6006\n",
            "Epoch 35/35\n",
            "109242/109242 [==============================] - 47s 431us/step - loss: 0.8816 - acc: 0.6659 - f1_m: 0.6492 - precision_m: 0.7049 - recall_m: 0.6025\n"
          ],
          "name": "stdout"
        }
      ]
    },
    {
      "cell_type": "code",
      "metadata": {
        "id": "VHAsQ9Vou5Ff",
        "colab_type": "code",
        "outputId": "902d72ca-494f-4708-b8dd-86718af2e885",
        "colab": {
          "base_uri": "https://localhost:8080/",
          "height": 134
        }
      },
      "source": [
        "print(\"Before saving\")\n",
        "print('Time: ', stop - start) \n",
        "print(\"Loss: \",test_loss)\n",
        "print(\"Accuracy: \",test_accuracy)\n",
        "print(\"F1: \",test_f1_score)\n",
        "print(\"precision: \",test_precision)\n",
        "print(\"recall: \",test_recall)"
      ],
      "execution_count": 26,
      "outputs": [
        {
          "output_type": "stream",
          "text": [
            "Before saving\n",
            "Time:  1675.562279193\n",
            "Loss:  1.018426822090328\n",
            "Accuracy:  0.6174334657610321\n",
            "F1:  0.601736470848784\n",
            "precision:  0.6535606446558074\n",
            "recall:  0.5588448887180144\n"
          ],
          "name": "stdout"
        }
      ]
    },
    {
      "cell_type": "code",
      "metadata": {
        "id": "G354kfIduhPY",
        "colab_type": "code",
        "colab": {}
      },
      "source": [
        "from keras.models import load_model\n",
        "\n",
        "model = load_model('/content/drive/My Drive/1101608_1dconv_reg.h5', \n",
        "                   custom_objects = {'f1_m': f1_m,  'precision_m': precision_m, 'recall_m' : recall_m})"
      ],
      "execution_count": 0,
      "outputs": []
    },
    {
      "cell_type": "code",
      "metadata": {
        "id": "w86rSQ8EukS5",
        "colab_type": "code",
        "colab": {}
      },
      "source": [
        "test_loss, test_accuracy, test_f1_score, test_precision, test_recall = model.evaluate(X_test, Y_test, verbose=0)"
      ],
      "execution_count": 0,
      "outputs": []
    },
    {
      "cell_type": "code",
      "metadata": {
        "id": "Tv56vIpSznJ0",
        "colab_type": "code",
        "outputId": "b3807829-6720-4d6e-bac6-f78292fa2d79",
        "colab": {
          "base_uri": "https://localhost:8080/",
          "height": 605
        }
      },
      "source": [
        "hh.history['acc']"
      ],
      "execution_count": 29,
      "outputs": [
        {
          "output_type": "execute_result",
          "data": {
            "text/plain": [
              "[0.5614415700899067,\n",
              " 0.5989820764885445,\n",
              " 0.6100217865011046,\n",
              " 0.6165119642508257,\n",
              " 0.6213452701429274,\n",
              " 0.6268376631567483,\n",
              " 0.6308745720466776,\n",
              " 0.6337946943450539,\n",
              " 0.6357170318955262,\n",
              " 0.6376027535273472,\n",
              " 0.6381153768576985,\n",
              " 0.6412368869094449,\n",
              " 0.643085992556049,\n",
              " 0.6435070760188415,\n",
              " 0.645978652903433,\n",
              " 0.6479009904593616,\n",
              " 0.6477545266319829,\n",
              " 0.650162025592369,\n",
              " 0.6519653613057393,\n",
              " 0.6531462258182243,\n",
              " 0.6544094762044192,\n",
              " 0.6552882590912138,\n",
              " 0.6561212720360445,\n",
              " 0.6567620512235366,\n",
              " 0.658336537234727,\n",
              " 0.6589498544494021,\n",
              " 0.6596913275190354,\n",
              " 0.660258874801568,\n",
              " 0.6607440361743796,\n",
              " 0.6624832939559059,\n",
              " 0.6630691492152239,\n",
              " 0.6630508412482595,\n",
              " 0.664131011877512,\n",
              " 0.665293568402299,\n",
              " 0.6659160396261005]"
            ]
          },
          "metadata": {
            "tags": []
          },
          "execution_count": 29
        }
      ]
    },
    {
      "cell_type": "code",
      "metadata": {
        "id": "o5hHO4OovbTw",
        "colab_type": "code",
        "outputId": "594ffed0-8403-48a6-eee1-4a440e615db0",
        "colab": {
          "base_uri": "https://localhost:8080/",
          "height": 301
        }
      },
      "source": [
        "plt.plot(hh.history['acc'])\n",
        "# plt.plot(hh.history['loss'])\n",
        "plt.title('Model Accuracy')\n",
        "plt.ylabel('Accuracy')\n",
        "plt.xlabel('Epoch')\n",
        "plt.legend(['Accuracy'], loc='upper left')\n",
        "plt.show()"
      ],
      "execution_count": 30,
      "outputs": [
        {
          "output_type": "display_data",
          "data": {
            "image/png": "[encoded data removed]",
            "text/plain": [
              "<Figure size 432x288 with 1 Axes>"
            ]
          },
          "metadata": {
            "tags": []
          }
        }
      ]
    },
    {
      "cell_type": "code",
      "metadata": {
        "id": "4O_1R2Ii0I1y",
        "colab_type": "code",
        "outputId": "246a5d37-2640-42b6-9aba-7ef62394ccbd",
        "colab": {
          "base_uri": "https://localhost:8080/",
          "height": 301
        }
      },
      "source": [
        "# plt.plot(hh.history['acc'])\n",
        "plt.plot(hh.history['loss'])\n",
        "plt.title('Model Loss')\n",
        "plt.ylabel('Loss')\n",
        "plt.xlabel('Epoch')\n",
        "plt.legend(['Loss'], loc='upper left')\n",
        "plt.show()"
      ],
      "execution_count": 31,
      "outputs": [
        {
          "output_type": "display_data",
          "data": {
            "image/png": "[encoded data removed]",
            "text/plain": [
              "<Figure size 432x288 with 1 Axes>"
            ]
          },
          "metadata": {
            "tags": []
          }
        }
      ]
    },
    {
      "cell_type": "code",
      "metadata": {
        "id": "zPWbRlGZGrYV",
        "colab_type": "code",
        "outputId": "9e20b5b5-dec2-488e-c937-5f41f3815038",
        "colab": {
          "base_uri": "https://localhost:8080/",
          "height": 134
        }
      },
      "source": [
        "print(\"After saving\")\n",
        "print('Time: ', stop - start) \n",
        "print(\"Loss: \",test_loss)\n",
        "print(\"Accuracy: \",test_accuracy)\n",
        "print(\"F1: \",test_f1_score)\n",
        "print(\"precision: \",test_precision)\n",
        "print(\"recall: \",test_recall)"
      ],
      "execution_count": 32,
      "outputs": [
        {
          "output_type": "stream",
          "text": [
            "After saving\n",
            "Time:  1675.562279193\n",
            "Loss:  1.018426822090328\n",
            "Accuracy:  0.6174334657610321\n",
            "F1:  0.601736470848784\n",
            "precision:  0.6535606446558074\n",
            "recall:  0.5588448887180144\n"
          ],
          "name": "stdout"
        }
      ]
    },
    {
      "cell_type": "code",
      "metadata": {
        "id": "WkecphG0vHI8",
        "colab_type": "code",
        "colab": {}
      },
      "source": [
        ""
      ],
      "execution_count": 0,
      "outputs": []
    }
  ]
}